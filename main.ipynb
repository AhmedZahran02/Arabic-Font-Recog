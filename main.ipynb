{
 "cells": [
  {
   "cell_type": "code",
   "execution_count": 1,
   "metadata": {},
   "outputs": [],
   "source": [
    "from ImageLoader import *\n",
    "from NoiseRemoval import *\n",
    "from Segmentation import *\n",
    "from OrientationDetector import *\n",
    "from LineCutter import *\n",
    "from WordCutter import *\n",
    "from CharCutter import *\n",
    "from FeatureExtractor import *\n",
    "from Classifier import *\n",
    "from Preprocessing import *\n",
    "import numpy as np\n",
    "# plt.rc(\"figure\", dpi=1000)"
   ]
  },
  {
   "cell_type": "code",
   "execution_count": 2,
   "metadata": {},
   "outputs": [
    {
     "name": "stdout",
     "output_type": "stream",
     "text": [
      "Loading DataSet Done\n"
     ]
    }
   ],
   "source": [
    "feature_extractor = FeatureExtractor()\n",
    "feature_extractor.loadDataset(\".\\\\fonts-dataset\\\\\")\n",
    "print(\"Loading DataSet Done\")\n",
    "features,labels = feature_extractor.extract(method = 'SIFT')\n",
    "classifier = Classifier()\n",
    "\n",
    "print(len(features))\n",
    "print(len(labels))\n",
    "\n",
    "classifier.train(features,labels)"
   ]
  },
  {
   "cell_type": "code",
   "execution_count": null,
   "metadata": {},
   "outputs": [],
   "source": [
    "path = \".\\\\fonts-dataset\\\\\"\n",
    "fonts = []\n",
    "total_size = 0\n",
    "fonts.append(ImageLoader.loadImages(path + str(\"1\\\\\")))\n",
    "fonts.append(ImageLoader.loadImages(path + str(\"2\\\\\")))\n",
    "fonts.append(ImageLoader.loadImages(path + str(\"3\\\\\")))\n",
    "fonts.append(ImageLoader.loadImages(path + str(\"4\\\\\")))\n",
    "total_size = 3200\n",
    "cnt = 0\n",
    "for i in range(0,4):\n",
    "    for j,image in enumerate(fonts[i]):\n",
    "        if j == 200:\n",
    "            break\n",
    "        alteredImage=image\n",
    "        if Preprocessing.detect_salt_and_pepper_noise(image):\n",
    "            alteredImage = NoiseRemoval.applyMedianFilter(image=image)\n",
    "        alteredImage2 = Segmentation.segment(alteredImage)\n",
    "        alteredImage3 = OrientationDetector.rotate(alteredImage2)\n",
    "        result = classifier.classify(alteredImage3,feature_extractor,method='SIFT')\n",
    "        if result == str(i + 1):\n",
    "            cnt+=1\n",
    "        else:\n",
    "            ImageLoader.print([image,alteredImage3])\n",
    "            print(\"Error in image \" + str(j))\n",
    "            print(\"Expected = \" + str(i+1))\n",
    "            print(\"Actual = \" + str(result))\n",
    "\n",
    "print(str(cnt/total_size*100) + \"%\")"
   ]
  },
  {
   "cell_type": "code",
   "execution_count": null,
   "metadata": {},
   "outputs": [],
   "source": [
    "print(str(cnt/total_size*100) + \"%\")"
   ]
  }
 ],
 "metadata": {
  "kernelspec": {
   "display_name": "Python 3",
   "language": "python",
   "name": "python3"
  },
  "language_info": {
   "codemirror_mode": {
    "name": "ipython",
    "version": 3
   },
   "file_extension": ".py",
   "mimetype": "text/x-python",
   "name": "python",
   "nbconvert_exporter": "python",
   "pygments_lexer": "ipython3",
   "version": "3.11.5"
  }
 },
 "nbformat": 4,
 "nbformat_minor": 2
}
