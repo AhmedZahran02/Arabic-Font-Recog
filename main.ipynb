{
 "cells": [
  {
   "cell_type": "code",
   "execution_count": 1,
   "metadata": {},
   "outputs": [],
   "source": [
    "from ImageLoader import *\n",
    "from NoiseRemoval import *\n",
    "from Segmentation import *\n",
    "from FeatureExtractor import *\n",
    "from Classifier import *\n",
    "import numpy as np\n",
    "from sklearn.model_selection import train_test_split\n",
    "from sklearn.metrics import accuracy_score\n",
    "import pickle\n",
    "import bz2file as bz2\n",
    "# plt.rc(\"figure\", dpi=1000)"
   ]
  },
  {
   "cell_type": "code",
   "execution_count": 2,
   "metadata": {},
   "outputs": [],
   "source": [
    "# clf = None\n",
    "# Kmean = None\n",
    "\n",
    "# def decompress_pickle(file):\n",
    "#     data = bz2.BZ2File(file, 'rb')\n",
    "#     data = pickle.load(data)\n",
    "#     return data\n",
    "\n",
    "\n",
    "# clf = decompress_pickle('models\\\\classifier2.pbz2')\n",
    "# if clf is not None:\n",
    "#     print(\"Classifier Loaded\")\n",
    "# else:\n",
    "#     print(\"Failed to Load Classifier\") \n",
    "    \n",
    "# with open('models/kmean.pkl', 'rb') as f:\n",
    "#     Kmean = pickle.load(f)\n",
    "# if Kmean is not None:\n",
    "#     print(\"Kmean Loaded\")\n",
    "# else:\n",
    "#     print(\"Failed to Load Kmean\") "
   ]
  },
  {
   "cell_type": "code",
   "execution_count": 3,
   "metadata": {},
   "outputs": [],
   "source": [
    "feature_extractor = FeatureExtractor()\n",
    "classifier = Classifier()\n",
    "clf = None\n",
    "Kmean = None"
   ]
  },
  {
   "cell_type": "code",
   "execution_count": 4,
   "metadata": {},
   "outputs": [
    {
     "name": "stdout",
     "output_type": "stream",
     "text": [
      "Loading DataSet Done\n"
     ]
    },
    {
     "ename": "ValueError",
     "evalue": "test_size=400 should be either positive and smaller than the number of samples 0 or a float in the (0, 1) range",
     "output_type": "error",
     "traceback": [
      "\u001b[1;31m---------------------------------------------------------------------------\u001b[0m",
      "\u001b[1;31mValueError\u001b[0m                                Traceback (most recent call last)",
      "\u001b[1;32mc:\\Users\\lenovo\\Documents\\GitHub\\Arabic-Font-Recog\\main.ipynb Cell 4\u001b[0m line \u001b[0;36m4\n\u001b[0;32m      <a href='vscode-notebook-cell:/c%3A/Users/lenovo/Documents/GitHub/Arabic-Font-Recog/main.ipynb#W3sZmlsZQ%3D%3D?line=1'>2</a>\u001b[0m dataset,labels \u001b[39m=\u001b[39m feature_extractor\u001b[39m.\u001b[39mloadDataset(\u001b[39m\"\u001b[39m\u001b[39m.\u001b[39m\u001b[39m\\\\\u001b[39;00m\u001b[39mfonts-dataset\u001b[39m\u001b[39m\\\\\u001b[39;00m\u001b[39m\"\u001b[39m)\n\u001b[0;32m      <a href='vscode-notebook-cell:/c%3A/Users/lenovo/Documents/GitHub/Arabic-Font-Recog/main.ipynb#W3sZmlsZQ%3D%3D?line=2'>3</a>\u001b[0m \u001b[39mprint\u001b[39m(\u001b[39m\"\u001b[39m\u001b[39mLoading DataSet Done\u001b[39m\u001b[39m\"\u001b[39m)  \n\u001b[1;32m----> <a href='vscode-notebook-cell:/c%3A/Users/lenovo/Documents/GitHub/Arabic-Font-Recog/main.ipynb#W3sZmlsZQ%3D%3D?line=3'>4</a>\u001b[0m X_train, X_test, y_train, y_test \u001b[39m=\u001b[39m train_test_split(dataset, labels, test_size\u001b[39m=\u001b[39m\u001b[39m400\u001b[39m, random_state\u001b[39m=\u001b[39m\u001b[39m42\u001b[39m)\n\u001b[0;32m      <a href='vscode-notebook-cell:/c%3A/Users/lenovo/Documents/GitHub/Arabic-Font-Recog/main.ipynb#W3sZmlsZQ%3D%3D?line=4'>5</a>\u001b[0m \u001b[39mprint\u001b[39m(\u001b[39m\"\u001b[39m\u001b[39mLoading DataSet Done\u001b[39m\u001b[39m\"\u001b[39m)     \n\u001b[0;32m      <a href='vscode-notebook-cell:/c%3A/Users/lenovo/Documents/GitHub/Arabic-Font-Recog/main.ipynb#W3sZmlsZQ%3D%3D?line=5'>6</a>\u001b[0m features \u001b[39m=\u001b[39m feature_extractor\u001b[39m.\u001b[39mextract(X_train,method \u001b[39m=\u001b[39m \u001b[39m'\u001b[39m\u001b[39mSIFT\u001b[39m\u001b[39m'\u001b[39m)\n",
      "File \u001b[1;32md:\\anaconda3\\Lib\\site-packages\\sklearn\\utils\\_param_validation.py:211\u001b[0m, in \u001b[0;36mvalidate_params.<locals>.decorator.<locals>.wrapper\u001b[1;34m(*args, **kwargs)\u001b[0m\n\u001b[0;32m    205\u001b[0m \u001b[39mtry\u001b[39;00m:\n\u001b[0;32m    206\u001b[0m     \u001b[39mwith\u001b[39;00m config_context(\n\u001b[0;32m    207\u001b[0m         skip_parameter_validation\u001b[39m=\u001b[39m(\n\u001b[0;32m    208\u001b[0m             prefer_skip_nested_validation \u001b[39mor\u001b[39;00m global_skip_validation\n\u001b[0;32m    209\u001b[0m         )\n\u001b[0;32m    210\u001b[0m     ):\n\u001b[1;32m--> 211\u001b[0m         \u001b[39mreturn\u001b[39;00m func(\u001b[39m*\u001b[39margs, \u001b[39m*\u001b[39m\u001b[39m*\u001b[39mkwargs)\n\u001b[0;32m    212\u001b[0m \u001b[39mexcept\u001b[39;00m InvalidParameterError \u001b[39mas\u001b[39;00m e:\n\u001b[0;32m    213\u001b[0m     \u001b[39m# When the function is just a wrapper around an estimator, we allow\u001b[39;00m\n\u001b[0;32m    214\u001b[0m     \u001b[39m# the function to delegate validation to the estimator, but we replace\u001b[39;00m\n\u001b[0;32m    215\u001b[0m     \u001b[39m# the name of the estimator by the name of the function in the error\u001b[39;00m\n\u001b[0;32m    216\u001b[0m     \u001b[39m# message to avoid confusion.\u001b[39;00m\n\u001b[0;32m    217\u001b[0m     msg \u001b[39m=\u001b[39m re\u001b[39m.\u001b[39msub(\n\u001b[0;32m    218\u001b[0m         \u001b[39mr\u001b[39m\u001b[39m\"\u001b[39m\u001b[39mparameter of \u001b[39m\u001b[39m\\\u001b[39m\u001b[39mw+ must be\u001b[39m\u001b[39m\"\u001b[39m,\n\u001b[0;32m    219\u001b[0m         \u001b[39mf\u001b[39m\u001b[39m\"\u001b[39m\u001b[39mparameter of \u001b[39m\u001b[39m{\u001b[39;00mfunc\u001b[39m.\u001b[39m\u001b[39m__qualname__\u001b[39m\u001b[39m}\u001b[39;00m\u001b[39m must be\u001b[39m\u001b[39m\"\u001b[39m,\n\u001b[0;32m    220\u001b[0m         \u001b[39mstr\u001b[39m(e),\n\u001b[0;32m    221\u001b[0m     )\n",
      "File \u001b[1;32md:\\anaconda3\\Lib\\site-packages\\sklearn\\model_selection\\_split.py:2617\u001b[0m, in \u001b[0;36mtrain_test_split\u001b[1;34m(test_size, train_size, random_state, shuffle, stratify, *arrays)\u001b[0m\n\u001b[0;32m   2614\u001b[0m arrays \u001b[39m=\u001b[39m indexable(\u001b[39m*\u001b[39marrays)\n\u001b[0;32m   2616\u001b[0m n_samples \u001b[39m=\u001b[39m _num_samples(arrays[\u001b[39m0\u001b[39m])\n\u001b[1;32m-> 2617\u001b[0m n_train, n_test \u001b[39m=\u001b[39m _validate_shuffle_split(\n\u001b[0;32m   2618\u001b[0m     n_samples, test_size, train_size, default_test_size\u001b[39m=\u001b[39m\u001b[39m0.25\u001b[39m\n\u001b[0;32m   2619\u001b[0m )\n\u001b[0;32m   2621\u001b[0m \u001b[39mif\u001b[39;00m shuffle \u001b[39mis\u001b[39;00m \u001b[39mFalse\u001b[39;00m:\n\u001b[0;32m   2622\u001b[0m     \u001b[39mif\u001b[39;00m stratify \u001b[39mis\u001b[39;00m \u001b[39mnot\u001b[39;00m \u001b[39mNone\u001b[39;00m:\n",
      "File \u001b[1;32md:\\anaconda3\\Lib\\site-packages\\sklearn\\model_selection\\_split.py:2218\u001b[0m, in \u001b[0;36m_validate_shuffle_split\u001b[1;34m(n_samples, test_size, train_size, default_test_size)\u001b[0m\n\u001b[0;32m   2210\u001b[0m train_size_type \u001b[39m=\u001b[39m np\u001b[39m.\u001b[39masarray(train_size)\u001b[39m.\u001b[39mdtype\u001b[39m.\u001b[39mkind\n\u001b[0;32m   2212\u001b[0m \u001b[39mif\u001b[39;00m (\n\u001b[0;32m   2213\u001b[0m     test_size_type \u001b[39m==\u001b[39m \u001b[39m\"\u001b[39m\u001b[39mi\u001b[39m\u001b[39m\"\u001b[39m\n\u001b[0;32m   2214\u001b[0m     \u001b[39mand\u001b[39;00m (test_size \u001b[39m>\u001b[39m\u001b[39m=\u001b[39m n_samples \u001b[39mor\u001b[39;00m test_size \u001b[39m<\u001b[39m\u001b[39m=\u001b[39m \u001b[39m0\u001b[39m)\n\u001b[0;32m   2215\u001b[0m     \u001b[39mor\u001b[39;00m test_size_type \u001b[39m==\u001b[39m \u001b[39m\"\u001b[39m\u001b[39mf\u001b[39m\u001b[39m\"\u001b[39m\n\u001b[0;32m   2216\u001b[0m     \u001b[39mand\u001b[39;00m (test_size \u001b[39m<\u001b[39m\u001b[39m=\u001b[39m \u001b[39m0\u001b[39m \u001b[39mor\u001b[39;00m test_size \u001b[39m>\u001b[39m\u001b[39m=\u001b[39m \u001b[39m1\u001b[39m)\n\u001b[0;32m   2217\u001b[0m ):\n\u001b[1;32m-> 2218\u001b[0m     \u001b[39mraise\u001b[39;00m \u001b[39mValueError\u001b[39;00m(\n\u001b[0;32m   2219\u001b[0m         \u001b[39m\"\u001b[39m\u001b[39mtest_size=\u001b[39m\u001b[39m{0}\u001b[39;00m\u001b[39m should be either positive and smaller\u001b[39m\u001b[39m\"\u001b[39m\n\u001b[0;32m   2220\u001b[0m         \u001b[39m\"\u001b[39m\u001b[39m than the number of samples \u001b[39m\u001b[39m{1}\u001b[39;00m\u001b[39m or a float in the \u001b[39m\u001b[39m\"\u001b[39m\n\u001b[0;32m   2221\u001b[0m         \u001b[39m\"\u001b[39m\u001b[39m(0, 1) range\u001b[39m\u001b[39m\"\u001b[39m\u001b[39m.\u001b[39mformat(test_size, n_samples)\n\u001b[0;32m   2222\u001b[0m     )\n\u001b[0;32m   2224\u001b[0m \u001b[39mif\u001b[39;00m (\n\u001b[0;32m   2225\u001b[0m     train_size_type \u001b[39m==\u001b[39m \u001b[39m\"\u001b[39m\u001b[39mi\u001b[39m\u001b[39m\"\u001b[39m\n\u001b[0;32m   2226\u001b[0m     \u001b[39mand\u001b[39;00m (train_size \u001b[39m>\u001b[39m\u001b[39m=\u001b[39m n_samples \u001b[39mor\u001b[39;00m train_size \u001b[39m<\u001b[39m\u001b[39m=\u001b[39m \u001b[39m0\u001b[39m)\n\u001b[0;32m   2227\u001b[0m     \u001b[39mor\u001b[39;00m train_size_type \u001b[39m==\u001b[39m \u001b[39m\"\u001b[39m\u001b[39mf\u001b[39m\u001b[39m\"\u001b[39m\n\u001b[0;32m   2228\u001b[0m     \u001b[39mand\u001b[39;00m (train_size \u001b[39m<\u001b[39m\u001b[39m=\u001b[39m \u001b[39m0\u001b[39m \u001b[39mor\u001b[39;00m train_size \u001b[39m>\u001b[39m\u001b[39m=\u001b[39m \u001b[39m1\u001b[39m)\n\u001b[0;32m   2229\u001b[0m ):\n\u001b[0;32m   2230\u001b[0m     \u001b[39mraise\u001b[39;00m \u001b[39mValueError\u001b[39;00m(\n\u001b[0;32m   2231\u001b[0m         \u001b[39m\"\u001b[39m\u001b[39mtrain_size=\u001b[39m\u001b[39m{0}\u001b[39;00m\u001b[39m should be either positive and smaller\u001b[39m\u001b[39m\"\u001b[39m\n\u001b[0;32m   2232\u001b[0m         \u001b[39m\"\u001b[39m\u001b[39m than the number of samples \u001b[39m\u001b[39m{1}\u001b[39;00m\u001b[39m or a float in the \u001b[39m\u001b[39m\"\u001b[39m\n\u001b[0;32m   2233\u001b[0m         \u001b[39m\"\u001b[39m\u001b[39m(0, 1) range\u001b[39m\u001b[39m\"\u001b[39m\u001b[39m.\u001b[39mformat(train_size, n_samples)\n\u001b[0;32m   2234\u001b[0m     )\n",
      "\u001b[1;31mValueError\u001b[0m: test_size=400 should be either positive and smaller than the number of samples 0 or a float in the (0, 1) range"
     ]
    }
   ],
   "source": [
    "if clf is None or Kmean is None:  \n",
    "    dataset,labels = feature_extractor.loadDataset(\".\\\\fonts-dataset\\\\\")\n",
    "    print(\"Loading DataSet Done\")  \n",
    "    X_train, X_test, y_train, y_test = train_test_split(dataset, labels, test_size=40, random_state=42)\n",
    "    print(\"Loading DataSet Done\")     \n",
    "    features = feature_extractor.extract(X_train,method = 'SIFT')\n",
    "    print('Training Start')\n",
    "\n",
    "    print(len(features))\n",
    "    print(len(y_train))\n",
    "\n",
    "    classifier.train(features,y_train)\n",
    "\n",
    "    print('Training Done')\n",
    "\n",
    "    with open('models/classifier.pkl', 'wb') as f:\n",
    "        pickle.dump(classifier.pipeline, f)\n",
    "\n",
    "    with open('models/kmean.pkl', 'wb') as f:\n",
    "        pickle.dump(feature_extractor.cluster_model, f)\n",
    "\n",
    "    print('Saving Model Done')\n",
    "else:\n",
    "    feature_extractor.cluster_model=Kmean\n",
    "    classifier.pipeline=clf\n",
    "    print('Model Loaded')"
   ]
  },
  {
   "cell_type": "code",
   "execution_count": null,
   "metadata": {},
   "outputs": [
    {
     "ename": "NameError",
     "evalue": "name 'X_test' is not defined",
     "output_type": "error",
     "traceback": [
      "\u001b[1;31m---------------------------------------------------------------------------\u001b[0m",
      "\u001b[1;31mNameError\u001b[0m                                 Traceback (most recent call last)",
      "\u001b[1;32mc:\\Users\\lenovo\\Documents\\GitHub\\Arabic-Font-Recog\\main.ipynb Cell 5\u001b[0m line \u001b[0;36m2\n\u001b[0;32m      <a href='vscode-notebook-cell:/c%3A/Users/lenovo/Documents/GitHub/Arabic-Font-Recog/main.ipynb#W4sZmlsZQ%3D%3D?line=0'>1</a>\u001b[0m predicted_labels \u001b[39m=\u001b[39m []\n\u001b[1;32m----> <a href='vscode-notebook-cell:/c%3A/Users/lenovo/Documents/GitHub/Arabic-Font-Recog/main.ipynb#W4sZmlsZQ%3D%3D?line=1'>2</a>\u001b[0m \u001b[39mfor\u001b[39;00m i,image \u001b[39min\u001b[39;00m \u001b[39menumerate\u001b[39m(X_test):\n\u001b[0;32m      <a href='vscode-notebook-cell:/c%3A/Users/lenovo/Documents/GitHub/Arabic-Font-Recog/main.ipynb#W4sZmlsZQ%3D%3D?line=2'>3</a>\u001b[0m     alteredImage\u001b[39m=\u001b[39mimage\n\u001b[0;32m      <a href='vscode-notebook-cell:/c%3A/Users/lenovo/Documents/GitHub/Arabic-Font-Recog/main.ipynb#W4sZmlsZQ%3D%3D?line=3'>4</a>\u001b[0m     alteredImage \u001b[39m=\u001b[39m cv2\u001b[39m.\u001b[39mGaussianBlur(alteredImage, (\u001b[39m5\u001b[39m, \u001b[39m5\u001b[39m), \u001b[39m0.1\u001b[39m)\n",
      "\u001b[1;31mNameError\u001b[0m: name 'X_test' is not defined"
     ]
    }
   ],
   "source": [
    "predicted_labels = []\n",
    "for i,image in enumerate(X_test):\n",
    "    alteredImage=image\n",
    "    alteredImage = cv2.GaussianBlur(alteredImage, (5, 5), 0.1)\n",
    "    alteredImage = NoiseRemoval.applyMedianFilter(image=alteredImage,kernel_size=3)\n",
    "    alteredImage = Segmentation.segment(alteredImage)\n",
    "    result = classifier.classify(alteredImage,feature_extractor,method='SIFT')\n",
    "    predicted_labels.append(result)\n",
    "        \n",
    "accuracy = accuracy_score(y_test, predicted_labels)\n",
    "print(\"Accuracy:\", accuracy*100)"
   ]
  },
  {
   "cell_type": "code",
   "execution_count": null,
   "metadata": {},
   "outputs": [
    {
     "name": "stdout",
     "output_type": "stream",
     "text": [
      "Passed\n",
      "Ded\n",
      "Passed\n",
      "Passed\n",
      "Passed\n"
     ]
    }
   ],
   "source": [
    "images = ImageLoader.loadImages('self-generated-dataset\\\\3\\\\')\n",
    "\n",
    "for image in images:\n",
    "    alteredImage = NoiseRemoval.applyMedianFilter(image=image,kernel_size=3)\n",
    "    alteredImage = Segmentation.segment(alteredImage)\n",
    "    result = classifier.classify(alteredImage,feature_extractor,method='SIFT')\n",
    "    if result == '4':\n",
    "        print('Passed')\n",
    "    else : \n",
    "        print('Ded')"
   ]
  },
  {
   "cell_type": "code",
   "execution_count": null,
   "metadata": {},
   "outputs": [
    {
     "name": "stdout",
     "output_type": "stream",
     "text": [
      "Ded\n",
      "Passed\n",
      "Passed\n",
      "Passed\n",
      "Passed\n",
      "Passed\n",
      "Passed\n",
      "Ded\n"
     ]
    }
   ],
   "source": [
    "images = ImageLoader.loadImages('Dataset\\\\1\\\\')\n",
    "\n",
    "for image in images:\n",
    "    alteredImage = NoiseRemoval.applyMedianFilter(image=image,kernel_size=3)\n",
    "    alteredImage = Segmentation.segment(alteredImage)\n",
    "    result = classifier.classify(alteredImage,feature_extractor,method='SIFT')\n",
    "    if result == '1':\n",
    "        print('Passed')\n",
    "    else : \n",
    "        print('Ded')"
   ]
  },
  {
   "cell_type": "code",
   "execution_count": null,
   "metadata": {},
   "outputs": [],
   "source": [
    "\n",
    "\n",
    "def compressed_pickle(title, data):\n",
    "    with bz2.BZ2File(title + '.pbz2', 'w') as f:\n",
    "        pickle.dump(data, f)\n",
    "\n",
    "compressed_pickle('classifier2', clf)"
   ]
  }
 ],
 "metadata": {
  "kernelspec": {
   "display_name": "Python 3",
   "language": "python",
   "name": "python3"
  },
  "language_info": {
   "codemirror_mode": {
    "name": "ipython",
    "version": 3
   },
   "file_extension": ".py",
   "mimetype": "text/x-python",
   "name": "python",
   "nbconvert_exporter": "python",
   "pygments_lexer": "ipython3",
   "version": "3.11.5"
  }
 },
 "nbformat": 4,
 "nbformat_minor": 2
}
