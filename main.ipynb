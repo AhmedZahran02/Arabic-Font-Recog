{
 "cells": [
  {
   "cell_type": "code",
   "execution_count": null,
   "metadata": {},
   "outputs": [],
   "source": [
    "from ImageLoader import *\n",
    "from NoiseRemoval import *\n",
    "from Segmentation import *\n",
    "from OrientationDetector import *\n",
    "from LineCutter import *\n",
    "from WordCutter import *\n",
    "from CharCutter import *\n",
    "from FeatureExtractor import *\n",
    "from Classifier import *\n",
    "from Preprocessing import *\n",
    "import numpy as np\n",
    "# plt.rc(\"figure\", dpi=1000)"
   ]
  },
  {
   "cell_type": "code",
   "execution_count": null,
   "metadata": {},
   "outputs": [],
   "source": [
    "path = \".\\\\fonts-dataset\\\\Lemonada\\\\\"\n",
    "image = ImageLoader.loadImage(path,\"1.jpeg\")\n",
    "alteredImage=image\n",
    "ImageLoader.print(alteredImage)\n",
    "# alteredImage = NoiseRemoval.applyGaussianBlur(image=image)\n",
    "# ImageLoader.print(alteredImage,sep=False)\n",
    "# alteredImage = NoiseRemoval.sharpenImage(alteredImage)\n",
    "alteredImage = Segmentation.segment(alteredImage)\n",
    "ImageLoader.print(alteredImage)\n",
    "alteredImage = OrientationDetector.rotate(alteredImage)\n",
    "ImageLoader.print(alteredImage)\n",
    "alteredImage = LineCutter.extractLines(alteredImage)\n",
    "ImageLoader.print(alteredImage)\n",
    "alteredImage = WordCutter.extractWords(alteredImage[4])\n",
    "#alteredImage = CharCutter.extractCharacters(alteredImage)\n",
    "# cv2.imshow(\"\",alteredImage[0])\n",
    "# cv2.waitKey(0)\n",
    "#print(alteredImage)\n",
    "ImageLoader.print(alteredImage)\n",
    "for i in range(0,len(alteredImage)):\n",
    "    alteredImage[i] = alteredImage[i].tolist()"
   ]
  },
  {
   "cell_type": "code",
   "execution_count": null,
   "metadata": {},
   "outputs": [],
   "source": [
    "#ImageLoader.print(alteredImage)\n",
    "alteredImage2 = CharCutter.extractCharacters(alteredImage)\n",
    "# for ii in alteredImage2:\n",
    "#     for jj in ii:\n",
    "        # print(jj.StartIndex,jj.CutIndex,jj.EndIndex)\n",
    "# print(alteredImage2)\n",
    "#ImageLoader.print(alteredImage2,sep=True)\n",
    "\n",
    "\n",
    "\n",
    "# ImageLoader.print(alteredImage2)\n",
    "# lll = [[[1,2,3],[4,5,6],[7,8,9]],[[10,11,12],[13,14,15],[16,17,18]]]\n",
    "# print(lll)"
   ]
  },
  {
   "cell_type": "code",
   "execution_count": null,
   "metadata": {},
   "outputs": [],
   "source": [
    "feature_extractor = FeatureExtractor()\n",
    "feature_extractor.loadDataset(\".\\\\char_sample\\\\\")\n",
    "features,labels = feature_extractor.extractFeatures(method='HOG')\n",
    "classifier = Classifier()\n",
    "\n",
    "print(len(features))\n",
    "print(len(labels))\n",
    "\n",
    "classifier.train(features,labels)"
   ]
  },
  {
   "cell_type": "code",
   "execution_count": null,
   "metadata": {},
   "outputs": [],
   "source": [
    "ImageLoader.print(Preprocessing.crop_to_fit_white_with_border(alteredImage2[1]))\n",
    "result = classifier.classify(Preprocessing.crop_to_fit_white_with_border(alteredImage2[1]),feature_extractor,method='HOG')\n",
    "print(result)"
   ]
  }
 ],
 "metadata": {
  "kernelspec": {
   "display_name": "Python 3",
   "language": "python",
   "name": "python3"
  },
  "language_info": {
   "codemirror_mode": {
    "name": "ipython",
    "version": 3
   },
   "file_extension": ".py",
   "mimetype": "text/x-python",
   "name": "python",
   "nbconvert_exporter": "python",
   "pygments_lexer": "ipython3",
   "version": "3.11.9"
  }
 },
 "nbformat": 4,
 "nbformat_minor": 2
}
