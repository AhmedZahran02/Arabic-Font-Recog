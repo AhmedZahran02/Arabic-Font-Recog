{
 "cells": [
  {
   "cell_type": "code",
   "execution_count": 1,
   "metadata": {},
   "outputs": [],
   "source": [
    "from ImageLoader import *\n",
    "from NoiseRemoval import *\n",
    "from Segmentation import *\n",
    "from OrientationDetector import *\n",
    "from LineCutter import *\n",
    "from WordCutter import *\n",
    "from CharCutter import *\n",
    "from FeatureExtractor import *\n",
    "from Classifier import *\n",
    "from Preprocessing import *\n",
    "import numpy as np\n",
    "from sklearn.model_selection import train_test_split\n",
    "from sklearn.metrics import accuracy_score\n",
    "# plt.rc(\"figure\", dpi=1000)"
   ]
  },
  {
   "cell_type": "code",
   "execution_count": 2,
   "metadata": {},
   "outputs": [
    {
     "name": "stdout",
     "output_type": "stream",
     "text": [
      "Loading DataSet Done\n"
     ]
    }
   ],
   "source": [
    "feature_extractor = FeatureExtractor()\n",
    "dataset,labels = feature_extractor.loadDataset(\".\\\\fonts-dataset\\\\\")\n",
    "X_train, X_test, y_train, y_test = train_test_split(dataset, labels, test_size=0.2, random_state=42)\n",
    "print(\"Loading DataSet Done\")\n",
    "features = feature_extractor.extract(X_train,method = 'SIFT')\n",
    "classifier = Classifier()\n",
    "\n",
    "print(len(features))\n",
    "print(len(y_train))\n",
    "\n",
    "classifier.train(features,y_train)"
   ]
  },
  {
   "cell_type": "code",
   "execution_count": null,
   "metadata": {},
   "outputs": [],
   "source": [
    "predicted_labels = []\n",
    "for i,image in enumerate(X_test):\n",
    "    alteredImage=image\n",
    "    alteredImage = NoiseRemoval.applyMedianFilter(image=image,kernel_size=3)\n",
    "    alteredImage2 = Segmentation.segment(alteredImage)\n",
    "    # alteredImage = OrientationDetector.rotate(alteredImage)\n",
    "    result = classifier.classify(alteredImage,feature_extractor,method='SIFT')\n",
    "    predicted_labels.append(result)\n",
    "        \n",
    "accuracy = accuracy_score(y_test, predicted_labels)\n",
    "print(\"Accuracy:\", accuracy)"
   ]
  }
 ],
 "metadata": {
  "kernelspec": {
   "display_name": "Python 3",
   "language": "python",
   "name": "python3"
  },
  "language_info": {
   "codemirror_mode": {
    "name": "ipython",
    "version": 3
   },
   "file_extension": ".py",
   "mimetype": "text/x-python",
   "name": "python",
   "nbconvert_exporter": "python",
   "pygments_lexer": "ipython3",
   "version": "3.11.9"
  }
 },
 "nbformat": 4,
 "nbformat_minor": 2
}
