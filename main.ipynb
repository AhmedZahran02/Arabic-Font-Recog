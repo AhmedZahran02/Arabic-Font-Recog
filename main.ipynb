{
 "cells": [
  {
   "cell_type": "code",
   "execution_count": 10,
   "metadata": {},
   "outputs": [],
   "source": [
    "from ImageLoader import *\n",
    "from NoiseRemoval import *\n",
    "from Segmentation import *\n",
    "from FeatureExtractor import *\n",
    "from Classifier import *\n",
    "import numpy as np\n",
    "from sklearn.model_selection import train_test_split\n",
    "from sklearn.metrics import accuracy_score\n",
    "import pickle\n",
    "import bz2file as bz2\n",
    "# plt.rc(\"figure\", dpi=1000)"
   ]
  },
  {
   "cell_type": "code",
   "execution_count": 11,
   "metadata": {},
   "outputs": [
    {
     "name": "stdout",
     "output_type": "stream",
     "text": [
      "Classifier Loaded\n",
      "Kmean Loaded\n"
     ]
    }
   ],
   "source": [
    "clf = None\n",
    "Kmean = None\n",
    "\n",
    "def decompress_pickle(file):\n",
    "    data = bz2.BZ2File(file, 'rb')\n",
    "    data = pickle.load(data)\n",
    "    return data\n",
    "\n",
    "\n",
    "clf = decompress_pickle('models\\\\classifier2.pbz2')\n",
    "if clf is not None:\n",
    "    print(\"Classifier Loaded\")\n",
    "else:\n",
    "    print(\"Failed to Load Classifier\") \n",
    "    \n",
    "with open('models/kmean.pkl', 'rb') as f:\n",
    "    Kmean = pickle.load(f)\n",
    "if Kmean is not None:\n",
    "    print(\"Kmean Loaded\")\n",
    "else:\n",
    "    print(\"Failed to Load Kmean\") "
   ]
  },
  {
   "cell_type": "code",
   "execution_count": 12,
   "metadata": {},
   "outputs": [],
   "source": [
    "feature_extractor = FeatureExtractor()\n",
    "classifier = Classifier()"
   ]
  },
  {
   "cell_type": "code",
   "execution_count": 13,
   "metadata": {},
   "outputs": [
    {
     "name": "stdout",
     "output_type": "stream",
     "text": [
      "Model Loaded\n"
     ]
    }
   ],
   "source": [
    "if clf is None or Kmean is None:  \n",
    "    dataset,labels = feature_extractor.loadDataset(\".\\\\fonts-dataset\\\\\")\n",
    "    print(\"Loading DataSet Done\")  \n",
    "    X_train, X_test, y_train, y_test = train_test_split(dataset, labels, test_size=4000, random_state=42)\n",
    "    print(\"Loading DataSet Done\")     \n",
    "    features = feature_extractor.extract(X_train,method = 'SIFT')\n",
    "    print('Training Start')\n",
    "\n",
    "    print(len(features))\n",
    "    print(len(y_train))\n",
    "\n",
    "    classifier.train(features,y_train)\n",
    "\n",
    "    print('Training Done')\n",
    "\n",
    "    with open('models/classifier.pkl', 'wb') as f:\n",
    "        pickle.dump(classifier.pipeline, f)\n",
    "\n",
    "    with open('models/kmean.pkl', 'wb') as f:\n",
    "        pickle.dump(feature_extractor.cluster_model, f)\n",
    "\n",
    "    print('Saving Model Done')\n",
    "else:\n",
    "    feature_extractor.cluster_model=Kmean\n",
    "    classifier.pipeline=clf\n",
    "    print('Model Loaded')"
   ]
  },
  {
   "cell_type": "code",
   "execution_count": 8,
   "metadata": {},
   "outputs": [
    {
     "name": "stdout",
     "output_type": "stream",
     "text": [
      "Accuracy: 97.37434358589647\n"
     ]
    }
   ],
   "source": [
    "predicted_labels = []\n",
    "for i,image in enumerate(X_test):\n",
    "    alteredImage=image\n",
    "    alteredImage = NoiseRemoval.applyMedianFilter(image=image,kernel_size=3)\n",
    "    alteredImage = Segmentation.segment(alteredImage)\n",
    "    result = classifier.classify(alteredImage,feature_extractor,method='SIFT')\n",
    "    predicted_labels.append(result)\n",
    "        \n",
    "accuracy = accuracy_score(y_test, predicted_labels)\n",
    "print(\"Accuracy:\", accuracy*100)"
   ]
  },
  {
   "cell_type": "code",
   "execution_count": 14,
   "metadata": {},
   "outputs": [
    {
     "name": "stdout",
     "output_type": "stream",
     "text": [
      "Passed\n",
      "Ded\n",
      "Passed\n",
      "Passed\n",
      "Passed\n"
     ]
    }
   ],
   "source": [
    "images = ImageLoader.loadImages('self-generated-dataset\\\\3\\\\')\n",
    "\n",
    "for image in images:\n",
    "    alteredImage = NoiseRemoval.applyMedianFilter(image=image,kernel_size=3)\n",
    "    alteredImage = Segmentation.segment(alteredImage)\n",
    "    result = classifier.classify(alteredImage,feature_extractor,method='SIFT')\n",
    "    if result == '4':\n",
    "        print('Passed')\n",
    "    else : \n",
    "        print('Ded')"
   ]
  },
  {
   "cell_type": "code",
   "execution_count": 15,
   "metadata": {},
   "outputs": [
    {
     "name": "stdout",
     "output_type": "stream",
     "text": [
      "Ded\n",
      "Passed\n",
      "Passed\n",
      "Passed\n",
      "Passed\n",
      "Passed\n",
      "Passed\n",
      "Ded\n"
     ]
    }
   ],
   "source": [
    "images = ImageLoader.loadImages('Dataset\\\\1\\\\')\n",
    "\n",
    "for image in images:\n",
    "    alteredImage = NoiseRemoval.applyMedianFilter(image=image,kernel_size=3)\n",
    "    alteredImage = Segmentation.segment(alteredImage)\n",
    "    result = classifier.classify(alteredImage,feature_extractor,method='SIFT')\n",
    "    if result == '1':\n",
    "        print('Passed')\n",
    "    else : \n",
    "        print('Ded')"
   ]
  },
  {
   "cell_type": "code",
   "execution_count": 3,
   "metadata": {},
   "outputs": [],
   "source": [
    "\n",
    "\n",
    "def compressed_pickle(title, data):\n",
    "    with bz2.BZ2File(title + '.pbz2', 'w') as f:\n",
    "        pickle.dump(data, f)\n",
    "\n",
    "compressed_pickle('classifier2', clf)"
   ]
  }
 ],
 "metadata": {
  "kernelspec": {
   "display_name": "Python 3",
   "language": "python",
   "name": "python3"
  },
  "language_info": {
   "codemirror_mode": {
    "name": "ipython",
    "version": 3
   },
   "file_extension": ".py",
   "mimetype": "text/x-python",
   "name": "python",
   "nbconvert_exporter": "python",
   "pygments_lexer": "ipython3",
   "version": "3.11.9"
  }
 },
 "nbformat": 4,
 "nbformat_minor": 2
}
